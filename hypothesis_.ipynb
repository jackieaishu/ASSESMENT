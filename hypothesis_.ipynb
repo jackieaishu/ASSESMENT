{
  "nbformat": 4,
  "nbformat_minor": 0,
  "metadata": {
    "colab": {
      "provenance": [],
      "authorship_tag": "ABX9TyN/0YGsigR8dDWQ8h11KRtz",
      "include_colab_link": true
    },
    "kernelspec": {
      "name": "python3",
      "display_name": "Python 3"
    },
    "language_info": {
      "name": "python"
    }
  },
  "cells": [
    {
      "cell_type": "markdown",
      "metadata": {
        "id": "view-in-github",
        "colab_type": "text"
      },
      "source": [
        "<a href=\"https://colab.research.google.com/github/jackieaishu/ASSESMENT/blob/main/hypothesis_.ipynb\" target=\"_parent\"><img src=\"https://colab.research.google.com/assets/colab-badge.svg\" alt=\"Open In Colab\"/></a>"
      ]
    },
    {
      "cell_type": "code",
      "execution_count": 1,
      "metadata": {
        "colab": {
          "base_uri": "https://localhost:8080/"
        },
        "id": "WthLSrgBiAqO",
        "outputId": "885c61f9-3fad-4c95-cef4-7528bc64f99c"
      },
      "outputs": [
        {
          "output_type": "stream",
          "name": "stdout",
          "text": [
            "p value is 0.00044690833914947634\n",
            "Dependent (We Reject the H0)\n"
          ]
        }
      ],
      "source": [
        "from scipy.stats import chi2_contingency\n",
        "  \n",
        "# defining the table\n",
        "Data = [[141, 68, 4], [179, 159, 7], [220,216,4], [86,101,4]]\n",
        "Calculated_ChiSq, p,  Degrees_of_Freedom, Expected_Values = chi2_contingency(Data)\n",
        "  \n",
        "# interpret p-value\n",
        "Alpha = 0.05\n",
        "print(\"p value is \" + str(p))\n",
        "if p >= Alpha:\n",
        "    print('Independent (H0 Holds True / We accept the Null Hypothesis)') #No Co-relation\n",
        "else:\n",
        "    print('Dependent (We Reject the H0)') #Co-relation exists\n",
        "     "
      ]
    },
    {
      "cell_type": "markdown",
      "source": [
        "HYPOTHESIS"
      ],
      "metadata": {
        "id": "bcZG0Y4eiWWr"
      }
    }
  ]
}